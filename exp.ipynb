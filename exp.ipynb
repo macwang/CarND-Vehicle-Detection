{
 "cells": [
  {
   "cell_type": "code",
   "execution_count": null,
   "metadata": {
    "collapsed": false,
    "deletable": true,
    "editable": true
   },
   "outputs": [],
   "source": [
    "import cv2\n",
    "import glob\n",
    "import matplotlib.pyplot as plt\n",
    "%matplotlib inline\n",
    "import numpy as np\n",
    "import os\n",
    "import time\n",
    "from sklearn.preprocessing import StandardScaler\n",
    "from sklearn.model_selection import train_test_split\n",
    "from sklearn.svm import LinearSVC\n",
    "\n",
    "from utils import single_img_features, visualize, extract_features, slide_window, search_windows, draw_boxes, get_hog_features, bin_spatial, color_hist, cvtColor"
   ]
  },
  {
   "cell_type": "markdown",
   "metadata": {
    "deletable": true,
    "editable": true
   },
   "source": [
    "## Load data"
   ]
  },
  {
   "cell_type": "code",
   "execution_count": null,
   "metadata": {
    "collapsed": false,
    "deletable": true,
    "editable": true
   },
   "outputs": [],
   "source": [
    "cars = []\n",
    "notcars = []\n",
    "\n",
    "basedir = 'test_images/vehicles'\n",
    "for d in os.listdir(basedir):\n",
    "    cars.extend(glob.glob(basedir + '/' + d + '/*.png'))\n",
    "\n",
    "basedir = 'test_images/non-vehicles'\n",
    "for d in os.listdir(basedir):\n",
    "    notcars.extend(glob.glob(basedir + '/' + d + '/*.png'))\n",
    "\n",
    "print('%d car image found' % len(cars))\n",
    "print('%d noncar image found' % len(notcars))"
   ]
  },
  {
   "cell_type": "markdown",
   "metadata": {
    "deletable": true,
    "editable": true
   },
   "source": [
    "### Place for local testing parameters"
   ]
  },
  {
   "cell_type": "code",
   "execution_count": null,
   "metadata": {
    "collapsed": true,
    "deletable": true,
    "editable": true
   },
   "outputs": [],
   "source": [
    "color_space = 'YUV'\n",
    "orient = 9\n",
    "pix_per_cell = 8\n",
    "cell_per_block = 2\n",
    "hog_channel = 0\n",
    "spatial_size = (16, 16)\n",
    "hist_bins = 16\n",
    "spatial_feat = True\n",
    "hist_feat = True\n",
    "hog_feat = True"
   ]
  },
  {
   "cell_type": "markdown",
   "metadata": {
    "deletable": true,
    "editable": true
   },
   "source": [
    "### Extract features from single image and show it up"
   ]
  },
  {
   "cell_type": "code",
   "execution_count": null,
   "metadata": {
    "collapsed": false,
    "deletable": true,
    "editable": true
   },
   "outputs": [],
   "source": [
    "car_ind = np.random.randint(0, len(cars))\n",
    "notcar_ind = np.random.randint(0, len(notcars))\n",
    "\n",
    "car_image = cv2.imread(cars[car_ind])\n",
    "car_image = cv2.cvtColor(car_image, cv2.COLOR_BGR2RGB)\n",
    "notcar_image = cv2.imread(notcars[car_ind])\n",
    "notcar_image = cv2.cvtColor(notcar_image, cv2.COLOR_BGR2RGB)\n",
    "\n",
    "car_features, car_hog_image = single_img_features(car_image, color_space=color_space, spatial_size=spatial_size,\n",
    "                        hist_bins=hist_bins, orient=orient,\n",
    "                        pix_per_cell=pix_per_cell, cell_per_block=cell_per_block, hog_channel=hog_channel,\n",
    "                        spatial_feat=spatial_feat, hist_feat=hist_feat, hog_feat=hog_feat, vis=True)\n",
    "\n",
    "notcar_features, notcar_hog_image = single_img_features(notcar_image, color_space=color_space, spatial_size=spatial_size,\n",
    "                        hist_bins=hist_bins, orient=orient,\n",
    "                        pix_per_cell=pix_per_cell, cell_per_block=cell_per_block, hog_channel=hog_channel,\n",
    "                        spatial_feat=spatial_feat, hist_feat=hist_feat, hog_feat=hog_feat, vis=True)\n",
    "\n",
    "images = [car_image, car_hog_image, notcar_image, notcar_hog_image]\n",
    "titles = ['car image', 'car HOG image', 'notcar image', 'notcar HOG image']\n",
    "\n",
    "fig = plt.figure(figsize=(16, 12))\n",
    "visualize(fig, 1, 4, images, titles)"
   ]
  },
  {
   "cell_type": "markdown",
   "metadata": {
    "deletable": true,
    "editable": true
   },
   "source": [
    "### Extract features for training"
   ]
  },
  {
   "cell_type": "code",
   "execution_count": null,
   "metadata": {
    "collapsed": true,
    "deletable": true,
    "editable": true
   },
   "outputs": [],
   "source": [
    "color_space = 'YUV'\n",
    "orient = 9\n",
    "pix_per_cell = 8\n",
    "cell_per_block = 2\n",
    "hog_channel = 'ALL'\n",
    "spatial_size = (16, 16)\n",
    "hist_bins = 16\n",
    "spatial_feat = True\n",
    "hist_feat = True\n",
    "hog_feat = True"
   ]
  },
  {
   "cell_type": "code",
   "execution_count": null,
   "metadata": {
    "collapsed": false,
    "deletable": true,
    "editable": true
   },
   "outputs": [],
   "source": [
    "car_features = extract_features(cars, color_space=color_space, spatial_size=spatial_size,\n",
    "                        hist_bins=hist_bins, orient=orient,\n",
    "                        pix_per_cell=pix_per_cell, cell_per_block=cell_per_block, hog_channel=hog_channel,\n",
    "                        spatial_feat=spatial_feat, hist_feat=hist_feat, hog_feat=hog_feat)\n",
    "\n",
    "notcar_features = extract_features(notcars, color_space=color_space, spatial_size=spatial_size,\n",
    "                        hist_bins=hist_bins, orient=orient,\n",
    "                        pix_per_cell=pix_per_cell, cell_per_block=cell_per_block, hog_channel=hog_channel,\n",
    "                        spatial_feat=spatial_feat, hist_feat=hist_feat, hog_feat=hog_feat)"
   ]
  },
  {
   "cell_type": "markdown",
   "metadata": {
    "deletable": true,
    "editable": true
   },
   "source": [
    "### Normalization and split to training/testing sets"
   ]
  },
  {
   "cell_type": "code",
   "execution_count": null,
   "metadata": {
    "collapsed": false,
    "deletable": true,
    "editable": true
   },
   "outputs": [],
   "source": [
    "X = np.vstack((car_features, notcar_features)).astype(np.float64)\n",
    "\n",
    "X_scaler = StandardScaler().fit(X)\n",
    "scaled_X = X_scaler.transform(X)\n",
    "\n",
    "y = np.hstack((np.ones(len(car_features)), np.zeros(len(notcar_features))))\n",
    "X_train, X_test, y_train, y_test = train_test_split(scaled_X, y, test_size=0.2)"
   ]
  },
  {
   "cell_type": "markdown",
   "metadata": {
    "deletable": true,
    "editable": true
   },
   "source": [
    "### Traing the SVM model"
   ]
  },
  {
   "cell_type": "code",
   "execution_count": null,
   "metadata": {
    "collapsed": false,
    "deletable": true,
    "editable": true
   },
   "outputs": [],
   "source": [
    "clf = LinearSVC()\n",
    "clf.fit(X_train, y_train)\n",
    "clf.score(X_test, y_test)"
   ]
  },
  {
   "cell_type": "markdown",
   "metadata": {
    "deletable": true,
    "editable": true
   },
   "source": [
    "### Sliding window parameters"
   ]
  },
  {
   "cell_type": "code",
   "execution_count": null,
   "metadata": {
    "collapsed": true,
    "deletable": true,
    "editable": true
   },
   "outputs": [],
   "source": [
    "x_start_stop = [None, None]\n",
    "y_start_stop = [400, 656]\n",
    "xy_window = (64, 64)\n",
    "xy_overlap = (0.5, 0.5)"
   ]
  },
  {
   "cell_type": "markdown",
   "metadata": {
    "deletable": true,
    "editable": true
   },
   "source": [
    "### Testing the result with some actual images\n",
    "\n",
    "I captured these images from the project video."
   ]
  },
  {
   "cell_type": "code",
   "execution_count": null,
   "metadata": {
    "collapsed": false,
    "deletable": true,
    "editable": true,
    "scrolled": false
   },
   "outputs": [],
   "source": [
    "test_images = glob.glob('test_images/out*.png')\n",
    "images = []\n",
    "titles = []\n",
    "for i in test_images:\n",
    "    t1 = time.time()\n",
    "    img = cv2.imread(i)\n",
    "    img = cv2.cvtColor(img, cv2.COLOR_BGR2RGB)\n",
    "    \n",
    "    windows = slide_window(img, x_start_stop=x_start_stop, y_start_stop=y_start_stop,\n",
    "                    xy_window=xy_window, xy_overlap=xy_overlap)\n",
    "    \n",
    "    hot_windows = search_windows(img, windows, clf, X_scaler, color_space=color_space,\n",
    "                    spatial_size=spatial_size, hist_bins=hist_bins,\n",
    "                    orient=orient,\n",
    "                    pix_per_cell=pix_per_cell, cell_per_block=cell_per_block,\n",
    "                    hog_channel=hog_channel, spatial_feat=True,\n",
    "                    hist_feat=True, hog_feat=True)\n",
    "    t2 = time.time()\n",
    "    print(t2-t1, 'seconds to process one image searching', len(windows), 'windows', len(hot_windows), 'hot windows')\n",
    "    window_img = draw_boxes(img, hot_windows)\n",
    "    images.append(window_img)\n",
    "    titles.append(i)\n",
    "\n",
    "fig = plt.figure(figsize=(12, 64), dpi=300)\n",
    "visualize(fig, 6, 1, images, titles)"
   ]
  },
  {
   "cell_type": "code",
   "execution_count": null,
   "metadata": {
    "collapsed": false,
    "deletable": true,
    "editable": true,
    "scrolled": false
   },
   "outputs": [],
   "source": [
    "out_images = [] # annotated images\n",
    "out_titles = []\n",
    "out_heatmaps = []\n",
    "out_boxes = []\n",
    "scale = 1\n",
    "ystart = 400\n",
    "ystop = 656\n",
    "image_w = 1280\n",
    "image_h = 720\n",
    "\n",
    "scaled_w = image_w // scale\n",
    "scaled_h = (ystop-ystart) // scale\n",
    "\n",
    "nxblocks = (scaled_w // pix_per_cell) - 1\n",
    "nyblocks = (scaled_h // pix_per_cell) - 1\n",
    "window = 64\n",
    "nblocks_per_window = (window // pix_per_cell) - 1\n",
    "cells_per_step = 2\n",
    "nxsteps = int((nxblocks - nblocks_per_window) // cells_per_step)\n",
    "nysteps = int((nyblocks - nblocks_per_window) // cells_per_step)"
   ]
  },
  {
   "cell_type": "code",
   "execution_count": null,
   "metadata": {
    "collapsed": true,
    "deletable": true,
    "editable": true
   },
   "outputs": [],
   "source": [
    "def find_cars(img, scale):\n",
    "    draw_img = np.copy(img)\n",
    "    heatmap = np.zeros_like(img[:, :, 0])\n",
    "    img_tosearch = img[ystart:ystop, :, :]\n",
    "    ctrans_tosearch = cvtColor(img_tosearch, color_space)\n",
    "\n",
    "    if scale != 1:\n",
    "        imshape = ctrans_tosearch.shape\n",
    "        ctrans_tosearch = cv2.resize(ctrans_tosearch, (int(imshape[1]//scale), int(imshape[0]//scale)))\n",
    "\n",
    "    if hog_channel != 'ALL':\n",
    "        ch = ctrans_tosearch[:, :, hog_channel]\n",
    "        hog = get_hog_features(ch, orient, pix_per_cell, cell_per_block, feature_vec=False)\n",
    "    else:\n",
    "        ch1 = ctrans_tosearch[:, :, 0]\n",
    "        ch2 = ctrans_tosearch[:, :, 1]\n",
    "        ch3 = ctrans_tosearch[:, :, 2]\n",
    "        hog1 = get_hog_features(ch1, orient, pix_per_cell, cell_per_block, feature_vec=False)\n",
    "        hog2 = get_hog_features(ch2, orient, pix_per_cell, cell_per_block, feature_vec=False)\n",
    "        hog3 = get_hog_features(ch3, orient, pix_per_cell, cell_per_block, feature_vec=False)\n",
    "\n",
    "    for xb in range(nxsteps):\n",
    "        for yb in range(nysteps):\n",
    "            ypos = yb*cells_per_step\n",
    "            xpos = xb*cells_per_step\n",
    "\n",
    "            if hog_channel != 'ALL':\n",
    "                hog_features = hog[ypos:ypos+nblocks_per_window, xpos:xpos+nblocks_per_window].ravel()\n",
    "            else:\n",
    "                hog_features = np.hstack((hog1[ypos:ypos+nblocks_per_window, xpos:xpos+nblocks_per_window].ravel(),\n",
    "                                         hog2[ypos:ypos+nblocks_per_window, xpos:xpos+nblocks_per_window].ravel(),\n",
    "                                         hog3[ypos:ypos+nblocks_per_window, xpos:xpos+nblocks_per_window].ravel()))\n",
    "\n",
    "            xleft = xpos*pix_per_cell\n",
    "            ytop = ypos*pix_per_cell\n",
    "\n",
    "            subimg = cv2.resize(ctrans_tosearch[ytop:ytop+window, xleft:xleft+window], (64, 64))\n",
    "\n",
    "            spatial_features = bin_spatial(subimg, size=spatial_size)\n",
    "            hist_features = color_hist(subimg, nbins=hist_bins)\n",
    "\n",
    "            all_features = np.hstack((spatial_features, hist_features, hog_features))\n",
    "\n",
    "            test_features = X_scaler.transform(all_features.reshape(1, -1))\n",
    "\n",
    "            test_prediction = clf.predict(test_features)\n",
    "\n",
    "            if test_prediction:\n",
    "                xbox_left = np.int(xleft*scale)\n",
    "                ytop_draw = np.int(ytop*scale) + ystart\n",
    "                win_draw = np.int(window*scale)\n",
    "                cv2.rectangle(draw_img, (xbox_left, ytop_draw), (xbox_left+win_draw, ytop_draw+win_draw), color=(0, 0, 255), thickness = 6)\n",
    "                heatmap[ytop_draw:ytop_draw+win_draw, xbox_left:xbox_left+win_draw] += 1\n",
    "\n",
    "    return draw_img, heatmap"
   ]
  },
  {
   "cell_type": "code",
   "execution_count": null,
   "metadata": {
    "collapsed": true,
    "deletable": true,
    "editable": true
   },
   "outputs": [],
   "source": [
    "from scipy.ndimage.measurements import label\n",
    "\n",
    "def apply_threshold(heatmap, threshold):\n",
    "    heatmap[heatmap <= threshold] = 0\n",
    "    return heatmap\n",
    "\n",
    "def draw_labeled_bboxes(img, labels):\n",
    "    for car_numbers in range(1, labels[1]+1):\n",
    "        nonzero = (labels[0] == car_numbers).nonzero()\n",
    "        nonzeroy = np.array(nonzero[0])\n",
    "        nonzerox = np.array(nonzero[1])\n",
    "        bbox = ((np.min(nonzerox)-20, np.min(nonzeroy)), (np.max(nonzerox)+10, np.max(nonzeroy)))\n",
    "        cv2.rectangle(img, bbox[0], bbox[1], (0, 0, 255), 6)\n",
    "    return img"
   ]
  },
  {
   "cell_type": "code",
   "execution_count": null,
   "metadata": {
    "collapsed": false,
    "deletable": true,
    "editable": true
   },
   "outputs": [],
   "source": [
    "out_images = []\n",
    "out_maps = []\n",
    "for img_file in test_images:\n",
    "    img = cv2.imread(img_file)\n",
    "    img = cv2.cvtColor(img, cv2.COLOR_BGR2RGB)\n",
    "    out_img, heat_map = find_cars(img, 1)\n",
    "    heat_map = apply_threshold(heat_map, 1)\n",
    "    labels = label(heat_map)\n",
    "    draw_img = draw_labeled_bboxes(np.copy(img), labels)\n",
    "    out_images.append(draw_img)\n",
    "    out_images.append(heat_map)\n",
    "    out_titles.append(img_file[-12:])\n",
    "    out_titles.append(img_file[-12:])\n",
    "\n",
    "    \n",
    "print(len(out_images))\n",
    "fig = plt.figure(figsize=(12, 24))\n",
    "visualize(fig, 6, 2, out_images, out_titles)"
   ]
  },
  {
   "cell_type": "code",
   "execution_count": null,
   "metadata": {
    "collapsed": false,
    "deletable": true,
    "editable": true
   },
   "outputs": [],
   "source": [
    "from imageio.plugins.ffmpeg import download\n",
    "download()"
   ]
  },
  {
   "cell_type": "code",
   "execution_count": null,
   "metadata": {
    "collapsed": false,
    "deletable": true,
    "editable": true
   },
   "outputs": [],
   "source": [
    "from moviepy.editor import VideoFileClip\n",
    "\n",
    "def process_image(img):\n",
    "    out_img, heat_map = find_cars(img, 1)\n",
    "    heat_map = apply_threshold(heat_map, 2)\n",
    "    labels = label(heat_map)\n",
    "    draw_img = draw_labeled_bboxes(np.copy(img), labels)\n",
    "    return draw_img\n",
    "output = 'output_images/output.mp4'\n",
    "clip1 = VideoFileClip('project_video.mp4').subclip(20, 25)\n",
    "clip = clip1.fl_image(process_image)\n",
    "clip.write_videofile(output, audio=False)"
   ]
  },
  {
   "cell_type": "code",
   "execution_count": null,
   "metadata": {
    "collapsed": true,
    "deletable": true,
    "editable": true
   },
   "outputs": [],
   "source": [
    "def fn(x, y):\n",
    "    if isinstance(y, int):\n",
    "        return x\n",
    "    return x + y\n",
    "\n",
    "total_cases = 15 # 5 / 25 frames = 0.2s\n",
    "heat_map_queue = [0 for i in range(total_cases)]\n",
    "\n",
    "current_case = 0"
   ]
  },
  {
   "cell_type": "code",
   "execution_count": null,
   "metadata": {
    "collapsed": false,
    "deletable": true,
    "editable": true
   },
   "outputs": [],
   "source": [
    "from functools import reduce\n",
    "\n",
    "def process_image_v2(img):\n",
    "    global current_case\n",
    "    out_img, heat_map = find_cars(img, 1)\n",
    "    heat_map_queue[current_case % total_cases] = heat_map\n",
    "    current_case += 1\n",
    "    overall_heatmap = reduce(fn, heat_map_queue)\n",
    "\n",
    "    overall_heatmap = apply_threshold(overall_heatmap, 4)\n",
    "    labels = label(overall_heatmap)\n",
    "    draw_img = draw_labeled_bboxes(np.copy(img), labels)\n",
    "    return draw_img\n",
    "output = 'output_images/output.mp4'\n",
    "clip1 = VideoFileClip('project_video.mp4')\n",
    "clip = clip1.fl_image(process_image_v2)\n",
    "clip.write_videofile(output, audio=False)"
   ]
  },
  {
   "cell_type": "code",
   "execution_count": null,
   "metadata": {
    "collapsed": true
   },
   "outputs": [],
   "source": []
  },
  {
   "cell_type": "code",
   "execution_count": null,
   "metadata": {
    "collapsed": true
   },
   "outputs": [],
   "source": []
  }
 ],
 "metadata": {
  "anaconda-cloud": {},
  "kernelspec": {
   "display_name": "Python 3",
   "language": "python",
   "name": "python3"
  },
  "language_info": {
   "codemirror_mode": {
    "name": "ipython",
    "version": 3
   },
   "file_extension": ".py",
   "mimetype": "text/x-python",
   "name": "python",
   "nbconvert_exporter": "python",
   "pygments_lexer": "ipython3",
   "version": "3.5.3"
  }
 },
 "nbformat": 4,
 "nbformat_minor": 2
}
